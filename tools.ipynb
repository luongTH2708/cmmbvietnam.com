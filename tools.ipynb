{
 "cells": [
  {
   "cell_type": "code",
   "execution_count": null,
   "id": "0218b050-cb28-4736-9063-fac3f78169f9",
   "metadata": {},
   "outputs": [],
   "source": [
    "from bs4 import BeautifulSoup\n",
    "with open('./webdemo/webdemo/cmmbvietnam.com/index.html', 'r') as f:\n",
    "\n",
    "    contents = f.read()\n",
    "\n",
    "    soup = BeautifulSoup(contents, 'lxml')\n",
    "\n",
    "    root = soup.html\n",
    "\n",
    "    root_childs = [e.name for e in root.children if e.name is not None]\n",
    "    print(root_childs)"
   ]
  }
 ],
 "metadata": {
  "kernelspec": {
   "display_name": "webclone",
   "language": "python",
   "name": "webclone"
  },
  "language_info": {
   "codemirror_mode": {
    "name": "ipython",
    "version": 3
   },
   "file_extension": ".py",
   "mimetype": "text/x-python",
   "name": "python",
   "nbconvert_exporter": "python",
   "pygments_lexer": "ipython3",
   "version": "3.11.5"
  }
 },
 "nbformat": 4,
 "nbformat_minor": 5
}
